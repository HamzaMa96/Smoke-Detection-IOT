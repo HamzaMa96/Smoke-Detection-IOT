{
 "cells": [
  {
   "cell_type": "code",
   "execution_count": 2,
   "metadata": {},
   "outputs": [],
   "source": [
    "import pandas as pd\n",
    "import numpy as np\n",
    "import seaborn as sns\n",
    "import matplotlib.pyplot as plt\n",
    "%matplotlib inline"
   ]
  },
  {
   "cell_type": "markdown",
   "metadata": {},
   "source": [
    "<h1>About the Data</h1> <br>\n",
    "<ul>\n",
    "<li>UTC: Time Stamp</li>\n",
    "<li>Temperature: Air Temperature</li>\n",
    "<li>Humidity%: Air Humidity</li>\n",
    "<li>TVOC[ppb]: Total Volatile Organic Compounds; measured in parts per billion</li>\n",
    "<li>eCO2[ppm]: co2 equivalent concentration; calculated from different values like TVCO</li>\n",
    "<li>Raw H2: raw molecular hydrogen; not compensated (Bias, temperature, etc.)</li>\n",
    "<li>Raw Ethanol: raw ethanol gas</li>\n",
    "<li>Pressure[hPa]: Air Pressure</li>\n",
    "<li>PM1.0: particulate matter size < 1.0 µm (PM1.0). 1.0 µm < 2.5 µm (PM2.5)</li>\n",
    "<li>PM2.5: particulate matter size < 1.0 µm (PM1.0). 1.0 µm < 2.5 µm (PM2.5)</li>\n",
    "<li>NC0.5: Number concentration of particulate matter. This differs from PM because NC gives the actual number of particles in the air</li>\n",
    "<li>NC1.0: Number concentration of particulate matter. This differs from PM because NC gives the actual number of particles in the air</li>\n",
    "<li>Number concentration of particulate matter. This differs from PM because NC gives the actual number of particles in the air</li>\n",
    "<li>CNT: Sample counter.</li>\n",
    "<li>Fire Alarm: Ground truth is \"1\" if a fire is there.</li>\n",
    "</ul>"
   ]
  },
  {
   "cell_type": "code",
   "execution_count": 3,
   "metadata": {},
   "outputs": [],
   "source": [
    "df = pd.read_csv('./smoke_detection_iot.csv', index_col= 0)"
   ]
  },
  {
   "cell_type": "code",
   "execution_count": 4,
   "metadata": {},
   "outputs": [
    {
     "data": {
      "text/html": [
       "<div>\n",
       "<style scoped>\n",
       "    .dataframe tbody tr th:only-of-type {\n",
       "        vertical-align: middle;\n",
       "    }\n",
       "\n",
       "    .dataframe tbody tr th {\n",
       "        vertical-align: top;\n",
       "    }\n",
       "\n",
       "    .dataframe thead th {\n",
       "        text-align: right;\n",
       "    }\n",
       "</style>\n",
       "<table border=\"1\" class=\"dataframe\">\n",
       "  <thead>\n",
       "    <tr style=\"text-align: right;\">\n",
       "      <th></th>\n",
       "      <th>UTC</th>\n",
       "      <th>Temperature[C]</th>\n",
       "      <th>Humidity[%]</th>\n",
       "      <th>TVOC[ppb]</th>\n",
       "      <th>eCO2[ppm]</th>\n",
       "      <th>Raw H2</th>\n",
       "      <th>Raw Ethanol</th>\n",
       "      <th>Pressure[hPa]</th>\n",
       "      <th>PM1.0</th>\n",
       "      <th>PM2.5</th>\n",
       "      <th>NC0.5</th>\n",
       "      <th>NC1.0</th>\n",
       "      <th>NC2.5</th>\n",
       "      <th>CNT</th>\n",
       "      <th>Fire Alarm</th>\n",
       "    </tr>\n",
       "  </thead>\n",
       "  <tbody>\n",
       "    <tr>\n",
       "      <th>0</th>\n",
       "      <td>1654733331</td>\n",
       "      <td>20.000</td>\n",
       "      <td>57.36</td>\n",
       "      <td>0</td>\n",
       "      <td>400</td>\n",
       "      <td>12306</td>\n",
       "      <td>18520</td>\n",
       "      <td>939.735</td>\n",
       "      <td>0.0</td>\n",
       "      <td>0.0</td>\n",
       "      <td>0.0</td>\n",
       "      <td>0.0</td>\n",
       "      <td>0.0</td>\n",
       "      <td>0</td>\n",
       "      <td>0</td>\n",
       "    </tr>\n",
       "    <tr>\n",
       "      <th>1</th>\n",
       "      <td>1654733332</td>\n",
       "      <td>20.015</td>\n",
       "      <td>56.67</td>\n",
       "      <td>0</td>\n",
       "      <td>400</td>\n",
       "      <td>12345</td>\n",
       "      <td>18651</td>\n",
       "      <td>939.744</td>\n",
       "      <td>0.0</td>\n",
       "      <td>0.0</td>\n",
       "      <td>0.0</td>\n",
       "      <td>0.0</td>\n",
       "      <td>0.0</td>\n",
       "      <td>1</td>\n",
       "      <td>0</td>\n",
       "    </tr>\n",
       "    <tr>\n",
       "      <th>2</th>\n",
       "      <td>1654733333</td>\n",
       "      <td>20.029</td>\n",
       "      <td>55.96</td>\n",
       "      <td>0</td>\n",
       "      <td>400</td>\n",
       "      <td>12374</td>\n",
       "      <td>18764</td>\n",
       "      <td>939.738</td>\n",
       "      <td>0.0</td>\n",
       "      <td>0.0</td>\n",
       "      <td>0.0</td>\n",
       "      <td>0.0</td>\n",
       "      <td>0.0</td>\n",
       "      <td>2</td>\n",
       "      <td>0</td>\n",
       "    </tr>\n",
       "    <tr>\n",
       "      <th>3</th>\n",
       "      <td>1654733334</td>\n",
       "      <td>20.044</td>\n",
       "      <td>55.28</td>\n",
       "      <td>0</td>\n",
       "      <td>400</td>\n",
       "      <td>12390</td>\n",
       "      <td>18849</td>\n",
       "      <td>939.736</td>\n",
       "      <td>0.0</td>\n",
       "      <td>0.0</td>\n",
       "      <td>0.0</td>\n",
       "      <td>0.0</td>\n",
       "      <td>0.0</td>\n",
       "      <td>3</td>\n",
       "      <td>0</td>\n",
       "    </tr>\n",
       "    <tr>\n",
       "      <th>4</th>\n",
       "      <td>1654733335</td>\n",
       "      <td>20.059</td>\n",
       "      <td>54.69</td>\n",
       "      <td>0</td>\n",
       "      <td>400</td>\n",
       "      <td>12403</td>\n",
       "      <td>18921</td>\n",
       "      <td>939.744</td>\n",
       "      <td>0.0</td>\n",
       "      <td>0.0</td>\n",
       "      <td>0.0</td>\n",
       "      <td>0.0</td>\n",
       "      <td>0.0</td>\n",
       "      <td>4</td>\n",
       "      <td>0</td>\n",
       "    </tr>\n",
       "  </tbody>\n",
       "</table>\n",
       "</div>"
      ],
      "text/plain": [
       "          UTC  Temperature[C]  Humidity[%]  TVOC[ppb]  eCO2[ppm]  Raw H2  \\\n",
       "0  1654733331          20.000        57.36          0        400   12306   \n",
       "1  1654733332          20.015        56.67          0        400   12345   \n",
       "2  1654733333          20.029        55.96          0        400   12374   \n",
       "3  1654733334          20.044        55.28          0        400   12390   \n",
       "4  1654733335          20.059        54.69          0        400   12403   \n",
       "\n",
       "   Raw Ethanol  Pressure[hPa]  PM1.0  PM2.5  NC0.5  NC1.0  NC2.5  CNT  \\\n",
       "0        18520        939.735    0.0    0.0    0.0    0.0    0.0    0   \n",
       "1        18651        939.744    0.0    0.0    0.0    0.0    0.0    1   \n",
       "2        18764        939.738    0.0    0.0    0.0    0.0    0.0    2   \n",
       "3        18849        939.736    0.0    0.0    0.0    0.0    0.0    3   \n",
       "4        18921        939.744    0.0    0.0    0.0    0.0    0.0    4   \n",
       "\n",
       "   Fire Alarm  \n",
       "0           0  \n",
       "1           0  \n",
       "2           0  \n",
       "3           0  \n",
       "4           0  "
      ]
     },
     "execution_count": 4,
     "metadata": {},
     "output_type": "execute_result"
    }
   ],
   "source": [
    "df.head()"
   ]
  },
  {
   "cell_type": "code",
   "execution_count": 5,
   "metadata": {},
   "outputs": [
    {
     "name": "stdout",
     "output_type": "stream",
     "text": [
      "<class 'pandas.core.frame.DataFrame'>\n",
      "Int64Index: 62630 entries, 0 to 62629\n",
      "Data columns (total 15 columns):\n",
      " #   Column          Non-Null Count  Dtype  \n",
      "---  ------          --------------  -----  \n",
      " 0   UTC             62630 non-null  int64  \n",
      " 1   Temperature[C]  62630 non-null  float64\n",
      " 2   Humidity[%]     62630 non-null  float64\n",
      " 3   TVOC[ppb]       62630 non-null  int64  \n",
      " 4   eCO2[ppm]       62630 non-null  int64  \n",
      " 5   Raw H2          62630 non-null  int64  \n",
      " 6   Raw Ethanol     62630 non-null  int64  \n",
      " 7   Pressure[hPa]   62630 non-null  float64\n",
      " 8   PM1.0           62630 non-null  float64\n",
      " 9   PM2.5           62630 non-null  float64\n",
      " 10  NC0.5           62630 non-null  float64\n",
      " 11  NC1.0           62630 non-null  float64\n",
      " 12  NC2.5           62630 non-null  float64\n",
      " 13  CNT             62630 non-null  int64  \n",
      " 14  Fire Alarm      62630 non-null  int64  \n",
      "dtypes: float64(8), int64(7)\n",
      "memory usage: 7.6 MB\n"
     ]
    }
   ],
   "source": [
    "df.info()"
   ]
  },
  {
   "cell_type": "code",
   "execution_count": 6,
   "metadata": {},
   "outputs": [
    {
     "data": {
      "text/html": [
       "<div>\n",
       "<style scoped>\n",
       "    .dataframe tbody tr th:only-of-type {\n",
       "        vertical-align: middle;\n",
       "    }\n",
       "\n",
       "    .dataframe tbody tr th {\n",
       "        vertical-align: top;\n",
       "    }\n",
       "\n",
       "    .dataframe thead th {\n",
       "        text-align: right;\n",
       "    }\n",
       "</style>\n",
       "<table border=\"1\" class=\"dataframe\">\n",
       "  <thead>\n",
       "    <tr style=\"text-align: right;\">\n",
       "      <th></th>\n",
       "      <th>UTC</th>\n",
       "      <th>Temperature[C]</th>\n",
       "      <th>Humidity[%]</th>\n",
       "      <th>TVOC[ppb]</th>\n",
       "      <th>eCO2[ppm]</th>\n",
       "      <th>Raw H2</th>\n",
       "      <th>Raw Ethanol</th>\n",
       "      <th>Pressure[hPa]</th>\n",
       "      <th>PM1.0</th>\n",
       "      <th>PM2.5</th>\n",
       "      <th>NC0.5</th>\n",
       "      <th>NC1.0</th>\n",
       "      <th>NC2.5</th>\n",
       "      <th>CNT</th>\n",
       "      <th>Fire Alarm</th>\n",
       "    </tr>\n",
       "  </thead>\n",
       "  <tbody>\n",
       "    <tr>\n",
       "      <th>count</th>\n",
       "      <td>6.263000e+04</td>\n",
       "      <td>62630.000000</td>\n",
       "      <td>62630.000000</td>\n",
       "      <td>62630.000000</td>\n",
       "      <td>62630.000000</td>\n",
       "      <td>62630.000000</td>\n",
       "      <td>62630.000000</td>\n",
       "      <td>62630.000000</td>\n",
       "      <td>62630.000000</td>\n",
       "      <td>62630.000000</td>\n",
       "      <td>62630.000000</td>\n",
       "      <td>62630.000000</td>\n",
       "      <td>62630.000000</td>\n",
       "      <td>62630.000000</td>\n",
       "      <td>62630.000000</td>\n",
       "    </tr>\n",
       "    <tr>\n",
       "      <th>mean</th>\n",
       "      <td>1.654792e+09</td>\n",
       "      <td>15.970424</td>\n",
       "      <td>48.539499</td>\n",
       "      <td>1942.057528</td>\n",
       "      <td>670.021044</td>\n",
       "      <td>12942.453936</td>\n",
       "      <td>19754.257912</td>\n",
       "      <td>938.627649</td>\n",
       "      <td>100.594309</td>\n",
       "      <td>184.467770</td>\n",
       "      <td>491.463608</td>\n",
       "      <td>203.586487</td>\n",
       "      <td>80.049042</td>\n",
       "      <td>10511.386157</td>\n",
       "      <td>0.714626</td>\n",
       "    </tr>\n",
       "    <tr>\n",
       "      <th>std</th>\n",
       "      <td>1.100025e+05</td>\n",
       "      <td>14.359576</td>\n",
       "      <td>8.865367</td>\n",
       "      <td>7811.589055</td>\n",
       "      <td>1905.885439</td>\n",
       "      <td>272.464305</td>\n",
       "      <td>609.513156</td>\n",
       "      <td>1.331344</td>\n",
       "      <td>922.524245</td>\n",
       "      <td>1976.305615</td>\n",
       "      <td>4265.661251</td>\n",
       "      <td>2214.738556</td>\n",
       "      <td>1083.383189</td>\n",
       "      <td>7597.870997</td>\n",
       "      <td>0.451596</td>\n",
       "    </tr>\n",
       "    <tr>\n",
       "      <th>min</th>\n",
       "      <td>1.654712e+09</td>\n",
       "      <td>-22.010000</td>\n",
       "      <td>10.740000</td>\n",
       "      <td>0.000000</td>\n",
       "      <td>400.000000</td>\n",
       "      <td>10668.000000</td>\n",
       "      <td>15317.000000</td>\n",
       "      <td>930.852000</td>\n",
       "      <td>0.000000</td>\n",
       "      <td>0.000000</td>\n",
       "      <td>0.000000</td>\n",
       "      <td>0.000000</td>\n",
       "      <td>0.000000</td>\n",
       "      <td>0.000000</td>\n",
       "      <td>0.000000</td>\n",
       "    </tr>\n",
       "    <tr>\n",
       "      <th>25%</th>\n",
       "      <td>1.654743e+09</td>\n",
       "      <td>10.994250</td>\n",
       "      <td>47.530000</td>\n",
       "      <td>130.000000</td>\n",
       "      <td>400.000000</td>\n",
       "      <td>12830.000000</td>\n",
       "      <td>19435.000000</td>\n",
       "      <td>938.700000</td>\n",
       "      <td>1.280000</td>\n",
       "      <td>1.340000</td>\n",
       "      <td>8.820000</td>\n",
       "      <td>1.384000</td>\n",
       "      <td>0.033000</td>\n",
       "      <td>3625.250000</td>\n",
       "      <td>0.000000</td>\n",
       "    </tr>\n",
       "    <tr>\n",
       "      <th>50%</th>\n",
       "      <td>1.654762e+09</td>\n",
       "      <td>20.130000</td>\n",
       "      <td>50.150000</td>\n",
       "      <td>981.000000</td>\n",
       "      <td>400.000000</td>\n",
       "      <td>12924.000000</td>\n",
       "      <td>19501.000000</td>\n",
       "      <td>938.816000</td>\n",
       "      <td>1.810000</td>\n",
       "      <td>1.880000</td>\n",
       "      <td>12.450000</td>\n",
       "      <td>1.943000</td>\n",
       "      <td>0.044000</td>\n",
       "      <td>9336.000000</td>\n",
       "      <td>1.000000</td>\n",
       "    </tr>\n",
       "    <tr>\n",
       "      <th>75%</th>\n",
       "      <td>1.654778e+09</td>\n",
       "      <td>25.409500</td>\n",
       "      <td>53.240000</td>\n",
       "      <td>1189.000000</td>\n",
       "      <td>438.000000</td>\n",
       "      <td>13109.000000</td>\n",
       "      <td>20078.000000</td>\n",
       "      <td>939.418000</td>\n",
       "      <td>2.090000</td>\n",
       "      <td>2.180000</td>\n",
       "      <td>14.420000</td>\n",
       "      <td>2.249000</td>\n",
       "      <td>0.051000</td>\n",
       "      <td>17164.750000</td>\n",
       "      <td>1.000000</td>\n",
       "    </tr>\n",
       "    <tr>\n",
       "      <th>max</th>\n",
       "      <td>1.655130e+09</td>\n",
       "      <td>59.930000</td>\n",
       "      <td>75.200000</td>\n",
       "      <td>60000.000000</td>\n",
       "      <td>60000.000000</td>\n",
       "      <td>13803.000000</td>\n",
       "      <td>21410.000000</td>\n",
       "      <td>939.861000</td>\n",
       "      <td>14333.690000</td>\n",
       "      <td>45432.260000</td>\n",
       "      <td>61482.030000</td>\n",
       "      <td>51914.680000</td>\n",
       "      <td>30026.438000</td>\n",
       "      <td>24993.000000</td>\n",
       "      <td>1.000000</td>\n",
       "    </tr>\n",
       "  </tbody>\n",
       "</table>\n",
       "</div>"
      ],
      "text/plain": [
       "                UTC  Temperature[C]   Humidity[%]     TVOC[ppb]     eCO2[ppm]  \\\n",
       "count  6.263000e+04    62630.000000  62630.000000  62630.000000  62630.000000   \n",
       "mean   1.654792e+09       15.970424     48.539499   1942.057528    670.021044   \n",
       "std    1.100025e+05       14.359576      8.865367   7811.589055   1905.885439   \n",
       "min    1.654712e+09      -22.010000     10.740000      0.000000    400.000000   \n",
       "25%    1.654743e+09       10.994250     47.530000    130.000000    400.000000   \n",
       "50%    1.654762e+09       20.130000     50.150000    981.000000    400.000000   \n",
       "75%    1.654778e+09       25.409500     53.240000   1189.000000    438.000000   \n",
       "max    1.655130e+09       59.930000     75.200000  60000.000000  60000.000000   \n",
       "\n",
       "             Raw H2   Raw Ethanol  Pressure[hPa]         PM1.0         PM2.5  \\\n",
       "count  62630.000000  62630.000000   62630.000000  62630.000000  62630.000000   \n",
       "mean   12942.453936  19754.257912     938.627649    100.594309    184.467770   \n",
       "std      272.464305    609.513156       1.331344    922.524245   1976.305615   \n",
       "min    10668.000000  15317.000000     930.852000      0.000000      0.000000   \n",
       "25%    12830.000000  19435.000000     938.700000      1.280000      1.340000   \n",
       "50%    12924.000000  19501.000000     938.816000      1.810000      1.880000   \n",
       "75%    13109.000000  20078.000000     939.418000      2.090000      2.180000   \n",
       "max    13803.000000  21410.000000     939.861000  14333.690000  45432.260000   \n",
       "\n",
       "              NC0.5         NC1.0         NC2.5           CNT    Fire Alarm  \n",
       "count  62630.000000  62630.000000  62630.000000  62630.000000  62630.000000  \n",
       "mean     491.463608    203.586487     80.049042  10511.386157      0.714626  \n",
       "std     4265.661251   2214.738556   1083.383189   7597.870997      0.451596  \n",
       "min        0.000000      0.000000      0.000000      0.000000      0.000000  \n",
       "25%        8.820000      1.384000      0.033000   3625.250000      0.000000  \n",
       "50%       12.450000      1.943000      0.044000   9336.000000      1.000000  \n",
       "75%       14.420000      2.249000      0.051000  17164.750000      1.000000  \n",
       "max    61482.030000  51914.680000  30026.438000  24993.000000      1.000000  "
      ]
     },
     "execution_count": 6,
     "metadata": {},
     "output_type": "execute_result"
    }
   ],
   "source": [
    "df.describe()"
   ]
  },
  {
   "cell_type": "code",
   "execution_count": 7,
   "metadata": {},
   "outputs": [],
   "source": [
    "df['UTC'] = pd.to_datetime(df['UTC'])"
   ]
  },
  {
   "cell_type": "code",
   "execution_count": 8,
   "metadata": {},
   "outputs": [
    {
     "name": "stdout",
     "output_type": "stream",
     "text": [
      "<class 'pandas.core.frame.DataFrame'>\n",
      "Int64Index: 62630 entries, 0 to 62629\n",
      "Data columns (total 15 columns):\n",
      " #   Column          Non-Null Count  Dtype         \n",
      "---  ------          --------------  -----         \n",
      " 0   UTC             62630 non-null  datetime64[ns]\n",
      " 1   Temperature[C]  62630 non-null  float64       \n",
      " 2   Humidity[%]     62630 non-null  float64       \n",
      " 3   TVOC[ppb]       62630 non-null  int64         \n",
      " 4   eCO2[ppm]       62630 non-null  int64         \n",
      " 5   Raw H2          62630 non-null  int64         \n",
      " 6   Raw Ethanol     62630 non-null  int64         \n",
      " 7   Pressure[hPa]   62630 non-null  float64       \n",
      " 8   PM1.0           62630 non-null  float64       \n",
      " 9   PM2.5           62630 non-null  float64       \n",
      " 10  NC0.5           62630 non-null  float64       \n",
      " 11  NC1.0           62630 non-null  float64       \n",
      " 12  NC2.5           62630 non-null  float64       \n",
      " 13  CNT             62630 non-null  int64         \n",
      " 14  Fire Alarm      62630 non-null  int64         \n",
      "dtypes: datetime64[ns](1), float64(8), int64(6)\n",
      "memory usage: 7.6 MB\n"
     ]
    }
   ],
   "source": [
    "df.info()"
   ]
  },
  {
   "cell_type": "code",
   "execution_count": 9,
   "metadata": {},
   "outputs": [
    {
     "data": {
      "text/html": [
       "<div>\n",
       "<style scoped>\n",
       "    .dataframe tbody tr th:only-of-type {\n",
       "        vertical-align: middle;\n",
       "    }\n",
       "\n",
       "    .dataframe tbody tr th {\n",
       "        vertical-align: top;\n",
       "    }\n",
       "\n",
       "    .dataframe thead th {\n",
       "        text-align: right;\n",
       "    }\n",
       "</style>\n",
       "<table border=\"1\" class=\"dataframe\">\n",
       "  <thead>\n",
       "    <tr style=\"text-align: right;\">\n",
       "      <th></th>\n",
       "      <th>UTC</th>\n",
       "      <th>Temperature[C]</th>\n",
       "      <th>Humidity[%]</th>\n",
       "      <th>TVOC[ppb]</th>\n",
       "      <th>eCO2[ppm]</th>\n",
       "      <th>Raw H2</th>\n",
       "      <th>Raw Ethanol</th>\n",
       "      <th>Pressure[hPa]</th>\n",
       "      <th>PM1.0</th>\n",
       "      <th>PM2.5</th>\n",
       "      <th>NC0.5</th>\n",
       "      <th>NC1.0</th>\n",
       "      <th>NC2.5</th>\n",
       "      <th>CNT</th>\n",
       "      <th>Fire Alarm</th>\n",
       "    </tr>\n",
       "  </thead>\n",
       "  <tbody>\n",
       "    <tr>\n",
       "      <th>0</th>\n",
       "      <td>1970-01-01 00:00:01.654733331</td>\n",
       "      <td>20.000</td>\n",
       "      <td>57.36</td>\n",
       "      <td>0</td>\n",
       "      <td>400</td>\n",
       "      <td>12306</td>\n",
       "      <td>18520</td>\n",
       "      <td>939.735</td>\n",
       "      <td>0.0</td>\n",
       "      <td>0.0</td>\n",
       "      <td>0.0</td>\n",
       "      <td>0.0</td>\n",
       "      <td>0.0</td>\n",
       "      <td>0</td>\n",
       "      <td>0</td>\n",
       "    </tr>\n",
       "    <tr>\n",
       "      <th>1</th>\n",
       "      <td>1970-01-01 00:00:01.654733332</td>\n",
       "      <td>20.015</td>\n",
       "      <td>56.67</td>\n",
       "      <td>0</td>\n",
       "      <td>400</td>\n",
       "      <td>12345</td>\n",
       "      <td>18651</td>\n",
       "      <td>939.744</td>\n",
       "      <td>0.0</td>\n",
       "      <td>0.0</td>\n",
       "      <td>0.0</td>\n",
       "      <td>0.0</td>\n",
       "      <td>0.0</td>\n",
       "      <td>1</td>\n",
       "      <td>0</td>\n",
       "    </tr>\n",
       "    <tr>\n",
       "      <th>2</th>\n",
       "      <td>1970-01-01 00:00:01.654733333</td>\n",
       "      <td>20.029</td>\n",
       "      <td>55.96</td>\n",
       "      <td>0</td>\n",
       "      <td>400</td>\n",
       "      <td>12374</td>\n",
       "      <td>18764</td>\n",
       "      <td>939.738</td>\n",
       "      <td>0.0</td>\n",
       "      <td>0.0</td>\n",
       "      <td>0.0</td>\n",
       "      <td>0.0</td>\n",
       "      <td>0.0</td>\n",
       "      <td>2</td>\n",
       "      <td>0</td>\n",
       "    </tr>\n",
       "    <tr>\n",
       "      <th>3</th>\n",
       "      <td>1970-01-01 00:00:01.654733334</td>\n",
       "      <td>20.044</td>\n",
       "      <td>55.28</td>\n",
       "      <td>0</td>\n",
       "      <td>400</td>\n",
       "      <td>12390</td>\n",
       "      <td>18849</td>\n",
       "      <td>939.736</td>\n",
       "      <td>0.0</td>\n",
       "      <td>0.0</td>\n",
       "      <td>0.0</td>\n",
       "      <td>0.0</td>\n",
       "      <td>0.0</td>\n",
       "      <td>3</td>\n",
       "      <td>0</td>\n",
       "    </tr>\n",
       "    <tr>\n",
       "      <th>4</th>\n",
       "      <td>1970-01-01 00:00:01.654733335</td>\n",
       "      <td>20.059</td>\n",
       "      <td>54.69</td>\n",
       "      <td>0</td>\n",
       "      <td>400</td>\n",
       "      <td>12403</td>\n",
       "      <td>18921</td>\n",
       "      <td>939.744</td>\n",
       "      <td>0.0</td>\n",
       "      <td>0.0</td>\n",
       "      <td>0.0</td>\n",
       "      <td>0.0</td>\n",
       "      <td>0.0</td>\n",
       "      <td>4</td>\n",
       "      <td>0</td>\n",
       "    </tr>\n",
       "  </tbody>\n",
       "</table>\n",
       "</div>"
      ],
      "text/plain": [
       "                            UTC  Temperature[C]  Humidity[%]  TVOC[ppb]  \\\n",
       "0 1970-01-01 00:00:01.654733331          20.000        57.36          0   \n",
       "1 1970-01-01 00:00:01.654733332          20.015        56.67          0   \n",
       "2 1970-01-01 00:00:01.654733333          20.029        55.96          0   \n",
       "3 1970-01-01 00:00:01.654733334          20.044        55.28          0   \n",
       "4 1970-01-01 00:00:01.654733335          20.059        54.69          0   \n",
       "\n",
       "   eCO2[ppm]  Raw H2  Raw Ethanol  Pressure[hPa]  PM1.0  PM2.5  NC0.5  NC1.0  \\\n",
       "0        400   12306        18520        939.735    0.0    0.0    0.0    0.0   \n",
       "1        400   12345        18651        939.744    0.0    0.0    0.0    0.0   \n",
       "2        400   12374        18764        939.738    0.0    0.0    0.0    0.0   \n",
       "3        400   12390        18849        939.736    0.0    0.0    0.0    0.0   \n",
       "4        400   12403        18921        939.744    0.0    0.0    0.0    0.0   \n",
       "\n",
       "   NC2.5  CNT  Fire Alarm  \n",
       "0    0.0    0           0  \n",
       "1    0.0    1           0  \n",
       "2    0.0    2           0  \n",
       "3    0.0    3           0  \n",
       "4    0.0    4           0  "
      ]
     },
     "execution_count": 9,
     "metadata": {},
     "output_type": "execute_result"
    }
   ],
   "source": [
    "df.head()"
   ]
  },
  {
   "cell_type": "code",
   "execution_count": 10,
   "metadata": {},
   "outputs": [
    {
     "data": {
      "text/html": [
       "<div>\n",
       "<style scoped>\n",
       "    .dataframe tbody tr th:only-of-type {\n",
       "        vertical-align: middle;\n",
       "    }\n",
       "\n",
       "    .dataframe tbody tr th {\n",
       "        vertical-align: top;\n",
       "    }\n",
       "\n",
       "    .dataframe thead th {\n",
       "        text-align: right;\n",
       "    }\n",
       "</style>\n",
       "<table border=\"1\" class=\"dataframe\">\n",
       "  <thead>\n",
       "    <tr style=\"text-align: right;\">\n",
       "      <th></th>\n",
       "      <th>UTC</th>\n",
       "      <th>Temperature[C]</th>\n",
       "      <th>Humidity[%]</th>\n",
       "      <th>TVOC[ppb]</th>\n",
       "      <th>eCO2[ppm]</th>\n",
       "      <th>Raw H2</th>\n",
       "      <th>Raw Ethanol</th>\n",
       "      <th>Pressure[hPa]</th>\n",
       "      <th>PM1.0</th>\n",
       "      <th>PM2.5</th>\n",
       "      <th>NC0.5</th>\n",
       "      <th>NC1.0</th>\n",
       "      <th>NC2.5</th>\n",
       "      <th>CNT</th>\n",
       "      <th>Fire Alarm</th>\n",
       "    </tr>\n",
       "  </thead>\n",
       "  <tbody>\n",
       "    <tr>\n",
       "      <th>62625</th>\n",
       "      <td>1970-01-01 00:00:01.655130047</td>\n",
       "      <td>18.438</td>\n",
       "      <td>15.79</td>\n",
       "      <td>625</td>\n",
       "      <td>400</td>\n",
       "      <td>13723</td>\n",
       "      <td>20569</td>\n",
       "      <td>936.670</td>\n",
       "      <td>0.63</td>\n",
       "      <td>0.65</td>\n",
       "      <td>4.32</td>\n",
       "      <td>0.673</td>\n",
       "      <td>0.015</td>\n",
       "      <td>5739</td>\n",
       "      <td>0</td>\n",
       "    </tr>\n",
       "    <tr>\n",
       "      <th>62626</th>\n",
       "      <td>1970-01-01 00:00:01.655130048</td>\n",
       "      <td>18.653</td>\n",
       "      <td>15.87</td>\n",
       "      <td>612</td>\n",
       "      <td>400</td>\n",
       "      <td>13731</td>\n",
       "      <td>20588</td>\n",
       "      <td>936.678</td>\n",
       "      <td>0.61</td>\n",
       "      <td>0.63</td>\n",
       "      <td>4.18</td>\n",
       "      <td>0.652</td>\n",
       "      <td>0.015</td>\n",
       "      <td>5740</td>\n",
       "      <td>0</td>\n",
       "    </tr>\n",
       "    <tr>\n",
       "      <th>62627</th>\n",
       "      <td>1970-01-01 00:00:01.655130049</td>\n",
       "      <td>18.867</td>\n",
       "      <td>15.84</td>\n",
       "      <td>627</td>\n",
       "      <td>400</td>\n",
       "      <td>13725</td>\n",
       "      <td>20582</td>\n",
       "      <td>936.687</td>\n",
       "      <td>0.57</td>\n",
       "      <td>0.60</td>\n",
       "      <td>3.95</td>\n",
       "      <td>0.617</td>\n",
       "      <td>0.014</td>\n",
       "      <td>5741</td>\n",
       "      <td>0</td>\n",
       "    </tr>\n",
       "    <tr>\n",
       "      <th>62628</th>\n",
       "      <td>1970-01-01 00:00:01.655130050</td>\n",
       "      <td>19.083</td>\n",
       "      <td>16.04</td>\n",
       "      <td>638</td>\n",
       "      <td>400</td>\n",
       "      <td>13712</td>\n",
       "      <td>20566</td>\n",
       "      <td>936.680</td>\n",
       "      <td>0.57</td>\n",
       "      <td>0.59</td>\n",
       "      <td>3.92</td>\n",
       "      <td>0.611</td>\n",
       "      <td>0.014</td>\n",
       "      <td>5742</td>\n",
       "      <td>0</td>\n",
       "    </tr>\n",
       "    <tr>\n",
       "      <th>62629</th>\n",
       "      <td>1970-01-01 00:00:01.655130051</td>\n",
       "      <td>19.299</td>\n",
       "      <td>16.52</td>\n",
       "      <td>643</td>\n",
       "      <td>400</td>\n",
       "      <td>13696</td>\n",
       "      <td>20543</td>\n",
       "      <td>936.676</td>\n",
       "      <td>0.57</td>\n",
       "      <td>0.59</td>\n",
       "      <td>3.90</td>\n",
       "      <td>0.607</td>\n",
       "      <td>0.014</td>\n",
       "      <td>5743</td>\n",
       "      <td>0</td>\n",
       "    </tr>\n",
       "  </tbody>\n",
       "</table>\n",
       "</div>"
      ],
      "text/plain": [
       "                                UTC  Temperature[C]  Humidity[%]  TVOC[ppb]  \\\n",
       "62625 1970-01-01 00:00:01.655130047          18.438        15.79        625   \n",
       "62626 1970-01-01 00:00:01.655130048          18.653        15.87        612   \n",
       "62627 1970-01-01 00:00:01.655130049          18.867        15.84        627   \n",
       "62628 1970-01-01 00:00:01.655130050          19.083        16.04        638   \n",
       "62629 1970-01-01 00:00:01.655130051          19.299        16.52        643   \n",
       "\n",
       "       eCO2[ppm]  Raw H2  Raw Ethanol  Pressure[hPa]  PM1.0  PM2.5  NC0.5  \\\n",
       "62625        400   13723        20569        936.670   0.63   0.65   4.32   \n",
       "62626        400   13731        20588        936.678   0.61   0.63   4.18   \n",
       "62627        400   13725        20582        936.687   0.57   0.60   3.95   \n",
       "62628        400   13712        20566        936.680   0.57   0.59   3.92   \n",
       "62629        400   13696        20543        936.676   0.57   0.59   3.90   \n",
       "\n",
       "       NC1.0  NC2.5   CNT  Fire Alarm  \n",
       "62625  0.673  0.015  5739           0  \n",
       "62626  0.652  0.015  5740           0  \n",
       "62627  0.617  0.014  5741           0  \n",
       "62628  0.611  0.014  5742           0  \n",
       "62629  0.607  0.014  5743           0  "
      ]
     },
     "execution_count": 10,
     "metadata": {},
     "output_type": "execute_result"
    }
   ],
   "source": [
    "df.tail()"
   ]
  },
  {
   "cell_type": "markdown",
   "metadata": {},
   "source": [
    "## Drop UTC and CNT as they are of no use"
   ]
  },
  {
   "cell_type": "code",
   "execution_count": 11,
   "metadata": {},
   "outputs": [],
   "source": [
    "df.drop(columns=['UTC', 'CNT'], inplace= True)"
   ]
  },
  {
   "cell_type": "code",
   "execution_count": 29,
   "metadata": {},
   "outputs": [
    {
     "data": {
      "text/plain": [
       "(array([    0., 10000., 20000., 30000., 40000., 50000.]),\n",
       " [Text(0, 0, ''),\n",
       "  Text(0, 0, ''),\n",
       "  Text(0, 0, ''),\n",
       "  Text(0, 0, ''),\n",
       "  Text(0, 0, ''),\n",
       "  Text(0, 0, '')])"
      ]
     },
     "execution_count": 29,
     "metadata": {},
     "output_type": "execute_result"
    },
    {
     "data": {
      "image/png": "[encoded data removed]",
      "text/plain": [
       "<Figure size 432x288 with 1 Axes>"
      ]
     },
     "metadata": {
      "needs_background": "dark"
     },
     "output_type": "display_data"
    }
   ],
   "source": [
    "# sns.histplot(df['Fire Alarm'])\n",
    "plt.hist(df['Fire Alarm'])\n",
    "plt.xlabel('Fire Alarm', color= 'white', fontsize = 18, weight = 'bold')\n",
    "plt.ylabel('Count', color= 'white', fontsize = 18, weight = 'bold')\n",
    "plt.xticks(color = 'white', fontsize = 14)\n",
    "plt.yticks(color = 'white', fontsize = 14)"
   ]
  },
  {
   "cell_type": "code",
   "execution_count": 42,
   "metadata": {},
   "outputs": [
    {
     "data": {
      "text/plain": [
       "([<matplotlib.patches.Wedge at 0x2ab1ee7a830>,\n",
       "  <matplotlib.patches.Wedge at 0x2ab1ee79480>],\n",
       " [Text(-0.6867566913298193, 0.8592818204254757, 'Yes'),\n",
       "  Text(0.6867567717815868, -0.8592817561266699, 'No')])"
      ]
     },
     "execution_count": 42,
     "metadata": {},
     "output_type": "execute_result"
    },
    {
     "data": {
      "image/png": "[encoded data removed]",
      "text/plain": [
       "<Figure size 432x288 with 1 Axes>"
      ]
     },
     "metadata": {},
     "output_type": "display_data"
    }
   ],
   "source": [
    "x = df['Fire Alarm'].value_counts()\n",
    "plt.pie(x, labels=['Yes', 'No'])"
   ]
  },
  {
   "cell_type": "markdown",
   "metadata": {},
   "source": [
    "## Temperature affect on Fire"
   ]
  },
  {
   "cell_type": "code",
   "execution_count": 13,
   "metadata": {},
   "outputs": [
    {
     "data": {
      "text/html": [
       "<div>\n",
       "<style scoped>\n",
       "    .dataframe tbody tr th:only-of-type {\n",
       "        vertical-align: middle;\n",
       "    }\n",
       "\n",
       "    .dataframe tbody tr th {\n",
       "        vertical-align: top;\n",
       "    }\n",
       "\n",
       "    .dataframe thead th {\n",
       "        text-align: right;\n",
       "    }\n",
       "</style>\n",
       "<table border=\"1\" class=\"dataframe\">\n",
       "  <thead>\n",
       "    <tr style=\"text-align: right;\">\n",
       "      <th></th>\n",
       "      <th>Fire Alarm</th>\n",
       "    </tr>\n",
       "    <tr>\n",
       "      <th>Temperature[C]</th>\n",
       "      <th></th>\n",
       "    </tr>\n",
       "  </thead>\n",
       "  <tbody>\n",
       "    <tr>\n",
       "      <th>24.48</th>\n",
       "      <td>222</td>\n",
       "    </tr>\n",
       "    <tr>\n",
       "      <th>24.51</th>\n",
       "      <td>206</td>\n",
       "    </tr>\n",
       "    <tr>\n",
       "      <th>24.47</th>\n",
       "      <td>193</td>\n",
       "    </tr>\n",
       "    <tr>\n",
       "      <th>26.95</th>\n",
       "      <td>191</td>\n",
       "    </tr>\n",
       "    <tr>\n",
       "      <th>26.98</th>\n",
       "      <td>189</td>\n",
       "    </tr>\n",
       "    <tr>\n",
       "      <th>27.02</th>\n",
       "      <td>187</td>\n",
       "    </tr>\n",
       "    <tr>\n",
       "      <th>24.45</th>\n",
       "      <td>186</td>\n",
       "    </tr>\n",
       "    <tr>\n",
       "      <th>24.52</th>\n",
       "      <td>183</td>\n",
       "    </tr>\n",
       "    <tr>\n",
       "      <th>24.55</th>\n",
       "      <td>182</td>\n",
       "    </tr>\n",
       "    <tr>\n",
       "      <th>26.92</th>\n",
       "      <td>180</td>\n",
       "    </tr>\n",
       "    <tr>\n",
       "      <th>27.01</th>\n",
       "      <td>179</td>\n",
       "    </tr>\n",
       "    <tr>\n",
       "      <th>24.49</th>\n",
       "      <td>178</td>\n",
       "    </tr>\n",
       "    <tr>\n",
       "      <th>26.99</th>\n",
       "      <td>175</td>\n",
       "    </tr>\n",
       "    <tr>\n",
       "      <th>26.96</th>\n",
       "      <td>174</td>\n",
       "    </tr>\n",
       "    <tr>\n",
       "      <th>26.94</th>\n",
       "      <td>173</td>\n",
       "    </tr>\n",
       "    <tr>\n",
       "      <th>27.04</th>\n",
       "      <td>171</td>\n",
       "    </tr>\n",
       "    <tr>\n",
       "      <th>24.44</th>\n",
       "      <td>170</td>\n",
       "    </tr>\n",
       "    <tr>\n",
       "      <th>26.90</th>\n",
       "      <td>169</td>\n",
       "    </tr>\n",
       "    <tr>\n",
       "      <th>24.58</th>\n",
       "      <td>167</td>\n",
       "    </tr>\n",
       "    <tr>\n",
       "      <th>24.57</th>\n",
       "      <td>159</td>\n",
       "    </tr>\n",
       "  </tbody>\n",
       "</table>\n",
       "</div>"
      ],
      "text/plain": [
       "                Fire Alarm\n",
       "Temperature[C]            \n",
       "24.48                  222\n",
       "24.51                  206\n",
       "24.47                  193\n",
       "26.95                  191\n",
       "26.98                  189\n",
       "27.02                  187\n",
       "24.45                  186\n",
       "24.52                  183\n",
       "24.55                  182\n",
       "26.92                  180\n",
       "27.01                  179\n",
       "24.49                  178\n",
       "26.99                  175\n",
       "26.96                  174\n",
       "26.94                  173\n",
       "27.04                  171\n",
       "24.44                  170\n",
       "26.90                  169\n",
       "24.58                  167\n",
       "24.57                  159"
      ]
     },
     "execution_count": 13,
     "metadata": {},
     "output_type": "execute_result"
    }
   ],
   "source": [
    "temperature_fire = df.groupby('Temperature[C]')[['Fire Alarm']].count().sort_values(by='Fire Alarm',ascending = False).head(20)\n",
    "temperature_fire"
   ]
  },
  {
   "cell_type": "code",
   "execution_count": 14,
   "metadata": {},
   "outputs": [
    {
     "name": "stderr",
     "output_type": "stream",
     "text": [
      "c:\\Users\\hmagdy.ITECHS-EG\\AppData\\Local\\Programs\\Python\\Python310\\lib\\site-packages\\seaborn\\_decorators.py:36: FutureWarning: Pass the following variables as keyword args: x, y. From version 0.12, the only valid positional argument will be `data`, and passing other arguments without an explicit keyword will result in an error or misinterpretation.\n",
      "  warnings.warn(\n"
     ]
    },
    {
     "data": {
      "text/plain": [
       "Text(0.5, 1.0, 'Temperature affect on Fire')"
      ]
     },
     "execution_count": 14,
     "metadata": {},
     "output_type": "execute_result"
    },
    {
     "data": {
      "image/png": "[encoded data removed]",
      "text/plain": [
       "<Figure size 1800x576 with 1 Axes>"
      ]
     },
     "metadata": {
      "needs_background": "light"
     },
     "output_type": "display_data"
    }
   ],
   "source": [
    "plt.figure(figsize=[25,8])\n",
    "sns.barplot(temperature_fire.index,temperature_fire['Fire Alarm'])\n",
    "plt.title('Temperature affect on Fire')"
   ]
  },
  {
   "cell_type": "markdown",
   "metadata": {},
   "source": [
    "### This graph shows that high temperatures don't have a direct affect on fires"
   ]
  },
  {
   "cell_type": "markdown",
   "metadata": {},
   "source": [
    "## Humidity affect on fires"
   ]
  },
  {
   "cell_type": "code",
   "execution_count": 15,
   "metadata": {},
   "outputs": [
    {
     "data": {
      "text/html": [
       "<div>\n",
       "<style scoped>\n",
       "    .dataframe tbody tr th:only-of-type {\n",
       "        vertical-align: middle;\n",
       "    }\n",
       "\n",
       "    .dataframe tbody tr th {\n",
       "        vertical-align: top;\n",
       "    }\n",
       "\n",
       "    .dataframe thead th {\n",
       "        text-align: right;\n",
       "    }\n",
       "</style>\n",
       "<table border=\"1\" class=\"dataframe\">\n",
       "  <thead>\n",
       "    <tr style=\"text-align: right;\">\n",
       "      <th></th>\n",
       "      <th>Fire Alarm</th>\n",
       "    </tr>\n",
       "    <tr>\n",
       "      <th>Humidity[%]</th>\n",
       "      <th></th>\n",
       "    </tr>\n",
       "  </thead>\n",
       "  <tbody>\n",
       "    <tr>\n",
       "      <th>47.45</th>\n",
       "      <td>130</td>\n",
       "    </tr>\n",
       "    <tr>\n",
       "      <th>47.50</th>\n",
       "      <td>130</td>\n",
       "    </tr>\n",
       "    <tr>\n",
       "      <th>47.86</th>\n",
       "      <td>126</td>\n",
       "    </tr>\n",
       "    <tr>\n",
       "      <th>53.12</th>\n",
       "      <td>126</td>\n",
       "    </tr>\n",
       "    <tr>\n",
       "      <th>47.76</th>\n",
       "      <td>126</td>\n",
       "    </tr>\n",
       "    <tr>\n",
       "      <th>47.66</th>\n",
       "      <td>124</td>\n",
       "    </tr>\n",
       "    <tr>\n",
       "      <th>53.35</th>\n",
       "      <td>124</td>\n",
       "    </tr>\n",
       "    <tr>\n",
       "      <th>47.62</th>\n",
       "      <td>123</td>\n",
       "    </tr>\n",
       "    <tr>\n",
       "      <th>47.70</th>\n",
       "      <td>122</td>\n",
       "    </tr>\n",
       "    <tr>\n",
       "      <th>47.43</th>\n",
       "      <td>122</td>\n",
       "    </tr>\n",
       "    <tr>\n",
       "      <th>47.56</th>\n",
       "      <td>120</td>\n",
       "    </tr>\n",
       "    <tr>\n",
       "      <th>47.72</th>\n",
       "      <td>120</td>\n",
       "    </tr>\n",
       "    <tr>\n",
       "      <th>47.83</th>\n",
       "      <td>120</td>\n",
       "    </tr>\n",
       "    <tr>\n",
       "      <th>47.61</th>\n",
       "      <td>120</td>\n",
       "    </tr>\n",
       "    <tr>\n",
       "      <th>53.41</th>\n",
       "      <td>120</td>\n",
       "    </tr>\n",
       "    <tr>\n",
       "      <th>53.28</th>\n",
       "      <td>118</td>\n",
       "    </tr>\n",
       "    <tr>\n",
       "      <th>47.77</th>\n",
       "      <td>118</td>\n",
       "    </tr>\n",
       "    <tr>\n",
       "      <th>53.03</th>\n",
       "      <td>116</td>\n",
       "    </tr>\n",
       "    <tr>\n",
       "      <th>47.38</th>\n",
       "      <td>116</td>\n",
       "    </tr>\n",
       "    <tr>\n",
       "      <th>53.63</th>\n",
       "      <td>114</td>\n",
       "    </tr>\n",
       "  </tbody>\n",
       "</table>\n",
       "</div>"
      ],
      "text/plain": [
       "             Fire Alarm\n",
       "Humidity[%]            \n",
       "47.45               130\n",
       "47.50               130\n",
       "47.86               126\n",
       "53.12               126\n",
       "47.76               126\n",
       "47.66               124\n",
       "53.35               124\n",
       "47.62               123\n",
       "47.70               122\n",
       "47.43               122\n",
       "47.56               120\n",
       "47.72               120\n",
       "47.83               120\n",
       "47.61               120\n",
       "53.41               120\n",
       "53.28               118\n",
       "47.77               118\n",
       "53.03               116\n",
       "47.38               116\n",
       "53.63               114"
      ]
     },
     "execution_count": 15,
     "metadata": {},
     "output_type": "execute_result"
    }
   ],
   "source": [
    "humidity_fire = df.groupby('Humidity[%]')[['Fire Alarm']].count().sort_values(by='Fire Alarm',ascending = False).head(20)\n",
    "humidity_fire"
   ]
  },
  {
   "cell_type": "code",
   "execution_count": 16,
   "metadata": {},
   "outputs": [
    {
     "name": "stderr",
     "output_type": "stream",
     "text": [
      "c:\\Users\\hmagdy.ITECHS-EG\\AppData\\Local\\Programs\\Python\\Python310\\lib\\site-packages\\seaborn\\_decorators.py:36: FutureWarning: Pass the following variables as keyword args: x, y. From version 0.12, the only valid positional argument will be `data`, and passing other arguments without an explicit keyword will result in an error or misinterpretation.\n",
      "  warnings.warn(\n"
     ]
    },
    {
     "data": {
      "text/plain": [
       "Text(0.5, 1.0, 'Humidity affect on Fire')"
      ]
     },
     "execution_count": 16,
     "metadata": {},
     "output_type": "execute_result"
    },
    {
     "data": {
      "image/png": "[encoded data removed]",
      "text/plain": [
       "<Figure size 1800x576 with 1 Axes>"
      ]
     },
     "metadata": {
      "needs_background": "light"
     },
     "output_type": "display_data"
    }
   ],
   "source": [
    "plt.figure(figsize=[25,8])\n",
    "sns.barplot(humidity_fire.index,humidity_fire['Fire Alarm'])\n",
    "plt.title('Humidity affect on Fire')"
   ]
  },
  {
   "cell_type": "markdown",
   "metadata": {},
   "source": [
    "### This graph shows that high humidity doesn't have a direct affect on fires"
   ]
  },
  {
   "cell_type": "markdown",
   "metadata": {},
   "source": [
    "## Pressure affect on fires"
   ]
  },
  {
   "cell_type": "code",
   "execution_count": 17,
   "metadata": {},
   "outputs": [
    {
     "data": {
      "text/html": [
       "<div>\n",
       "<style scoped>\n",
       "    .dataframe tbody tr th:only-of-type {\n",
       "        vertical-align: middle;\n",
       "    }\n",
       "\n",
       "    .dataframe tbody tr th {\n",
       "        vertical-align: top;\n",
       "    }\n",
       "\n",
       "    .dataframe thead th {\n",
       "        text-align: right;\n",
       "    }\n",
       "</style>\n",
       "<table border=\"1\" class=\"dataframe\">\n",
       "  <thead>\n",
       "    <tr style=\"text-align: right;\">\n",
       "      <th></th>\n",
       "      <th>Fire Alarm</th>\n",
       "    </tr>\n",
       "    <tr>\n",
       "      <th>Pressure[hPa]</th>\n",
       "      <th></th>\n",
       "    </tr>\n",
       "  </thead>\n",
       "  <tbody>\n",
       "    <tr>\n",
       "      <th>938.709</th>\n",
       "      <td>304</td>\n",
       "    </tr>\n",
       "    <tr>\n",
       "      <th>938.706</th>\n",
       "      <td>284</td>\n",
       "    </tr>\n",
       "    <tr>\n",
       "      <th>938.716</th>\n",
       "      <td>278</td>\n",
       "    </tr>\n",
       "    <tr>\n",
       "      <th>938.711</th>\n",
       "      <td>266</td>\n",
       "    </tr>\n",
       "    <tr>\n",
       "      <th>938.710</th>\n",
       "      <td>266</td>\n",
       "    </tr>\n",
       "    <tr>\n",
       "      <th>938.713</th>\n",
       "      <td>262</td>\n",
       "    </tr>\n",
       "    <tr>\n",
       "      <th>938.703</th>\n",
       "      <td>260</td>\n",
       "    </tr>\n",
       "    <tr>\n",
       "      <th>938.720</th>\n",
       "      <td>256</td>\n",
       "    </tr>\n",
       "    <tr>\n",
       "      <th>938.717</th>\n",
       "      <td>252</td>\n",
       "    </tr>\n",
       "    <tr>\n",
       "      <th>938.705</th>\n",
       "      <td>252</td>\n",
       "    </tr>\n",
       "    <tr>\n",
       "      <th>938.702</th>\n",
       "      <td>244</td>\n",
       "    </tr>\n",
       "    <tr>\n",
       "      <th>938.714</th>\n",
       "      <td>244</td>\n",
       "    </tr>\n",
       "    <tr>\n",
       "      <th>938.699</th>\n",
       "      <td>242</td>\n",
       "    </tr>\n",
       "    <tr>\n",
       "      <th>938.718</th>\n",
       "      <td>240</td>\n",
       "    </tr>\n",
       "    <tr>\n",
       "      <th>938.704</th>\n",
       "      <td>240</td>\n",
       "    </tr>\n",
       "    <tr>\n",
       "      <th>938.708</th>\n",
       "      <td>240</td>\n",
       "    </tr>\n",
       "    <tr>\n",
       "      <th>938.712</th>\n",
       "      <td>234</td>\n",
       "    </tr>\n",
       "    <tr>\n",
       "      <th>938.701</th>\n",
       "      <td>226</td>\n",
       "    </tr>\n",
       "    <tr>\n",
       "      <th>938.700</th>\n",
       "      <td>226</td>\n",
       "    </tr>\n",
       "    <tr>\n",
       "      <th>938.722</th>\n",
       "      <td>226</td>\n",
       "    </tr>\n",
       "  </tbody>\n",
       "</table>\n",
       "</div>"
      ],
      "text/plain": [
       "               Fire Alarm\n",
       "Pressure[hPa]            \n",
       "938.709               304\n",
       "938.706               284\n",
       "938.716               278\n",
       "938.711               266\n",
       "938.710               266\n",
       "938.713               262\n",
       "938.703               260\n",
       "938.720               256\n",
       "938.717               252\n",
       "938.705               252\n",
       "938.702               244\n",
       "938.714               244\n",
       "938.699               242\n",
       "938.718               240\n",
       "938.704               240\n",
       "938.708               240\n",
       "938.712               234\n",
       "938.701               226\n",
       "938.700               226\n",
       "938.722               226"
      ]
     },
     "execution_count": 17,
     "metadata": {},
     "output_type": "execute_result"
    }
   ],
   "source": [
    "pressure_fire = df.groupby('Pressure[hPa]')[['Fire Alarm']].count().sort_values(by='Fire Alarm',ascending = False).head(20)\n",
    "pressure_fire"
   ]
  },
  {
   "cell_type": "code",
   "execution_count": 18,
   "metadata": {},
   "outputs": [
    {
     "name": "stderr",
     "output_type": "stream",
     "text": [
      "c:\\Users\\hmagdy.ITECHS-EG\\AppData\\Local\\Programs\\Python\\Python310\\lib\\site-packages\\seaborn\\_decorators.py:36: FutureWarning: Pass the following variables as keyword args: x, y. From version 0.12, the only valid positional argument will be `data`, and passing other arguments without an explicit keyword will result in an error or misinterpretation.\n",
      "  warnings.warn(\n"
     ]
    },
    {
     "data": {
      "text/plain": [
       "Text(0.5, 1.0, 'Pressure affect on Fire')"
      ]
     },
     "execution_count": 18,
     "metadata": {},
     "output_type": "execute_result"
    },
    {
     "data": {
      "image/png": "[encoded data removed]",
      "text/plain": [
       "<Figure size 1800x576 with 1 Axes>"
      ]
     },
     "metadata": {
      "needs_background": "light"
     },
     "output_type": "display_data"
    }
   ],
   "source": [
    "plt.figure(figsize=[25,8])\n",
    "sns.barplot(pressure_fire.index,pressure_fire['Fire Alarm'])\n",
    "plt.title('Pressure affect on Fire')"
   ]
  },
  {
   "cell_type": "markdown",
   "metadata": {},
   "source": [
    "## Raw Ethanol affect on fires"
   ]
  },
  {
   "cell_type": "code",
   "execution_count": 19,
   "metadata": {},
   "outputs": [
    {
     "data": {
      "text/html": [
       "<div>\n",
       "<style scoped>\n",
       "    .dataframe tbody tr th:only-of-type {\n",
       "        vertical-align: middle;\n",
       "    }\n",
       "\n",
       "    .dataframe tbody tr th {\n",
       "        vertical-align: top;\n",
       "    }\n",
       "\n",
       "    .dataframe thead th {\n",
       "        text-align: right;\n",
       "    }\n",
       "</style>\n",
       "<table border=\"1\" class=\"dataframe\">\n",
       "  <thead>\n",
       "    <tr style=\"text-align: right;\">\n",
       "      <th></th>\n",
       "      <th>Fire Alarm</th>\n",
       "    </tr>\n",
       "    <tr>\n",
       "      <th>Raw Ethanol</th>\n",
       "      <th></th>\n",
       "    </tr>\n",
       "  </thead>\n",
       "  <tbody>\n",
       "    <tr>\n",
       "      <th>19438</th>\n",
       "      <td>685</td>\n",
       "    </tr>\n",
       "    <tr>\n",
       "      <th>19443</th>\n",
       "      <td>504</td>\n",
       "    </tr>\n",
       "    <tr>\n",
       "      <th>19448</th>\n",
       "      <td>494</td>\n",
       "    </tr>\n",
       "    <tr>\n",
       "      <th>19446</th>\n",
       "      <td>486</td>\n",
       "    </tr>\n",
       "    <tr>\n",
       "      <th>19442</th>\n",
       "      <td>479</td>\n",
       "    </tr>\n",
       "    <tr>\n",
       "      <th>19450</th>\n",
       "      <td>464</td>\n",
       "    </tr>\n",
       "    <tr>\n",
       "      <th>19441</th>\n",
       "      <td>462</td>\n",
       "    </tr>\n",
       "    <tr>\n",
       "      <th>19445</th>\n",
       "      <td>459</td>\n",
       "    </tr>\n",
       "    <tr>\n",
       "      <th>19447</th>\n",
       "      <td>458</td>\n",
       "    </tr>\n",
       "    <tr>\n",
       "      <th>19439</th>\n",
       "      <td>458</td>\n",
       "    </tr>\n",
       "    <tr>\n",
       "      <th>19456</th>\n",
       "      <td>457</td>\n",
       "    </tr>\n",
       "    <tr>\n",
       "      <th>19449</th>\n",
       "      <td>457</td>\n",
       "    </tr>\n",
       "    <tr>\n",
       "      <th>19440</th>\n",
       "      <td>448</td>\n",
       "    </tr>\n",
       "    <tr>\n",
       "      <th>19451</th>\n",
       "      <td>422</td>\n",
       "    </tr>\n",
       "    <tr>\n",
       "      <th>19444</th>\n",
       "      <td>415</td>\n",
       "    </tr>\n",
       "    <tr>\n",
       "      <th>19437</th>\n",
       "      <td>408</td>\n",
       "    </tr>\n",
       "    <tr>\n",
       "      <th>19386</th>\n",
       "      <td>395</td>\n",
       "    </tr>\n",
       "    <tr>\n",
       "      <th>19436</th>\n",
       "      <td>394</td>\n",
       "    </tr>\n",
       "    <tr>\n",
       "      <th>19433</th>\n",
       "      <td>383</td>\n",
       "    </tr>\n",
       "    <tr>\n",
       "      <th>19454</th>\n",
       "      <td>382</td>\n",
       "    </tr>\n",
       "  </tbody>\n",
       "</table>\n",
       "</div>"
      ],
      "text/plain": [
       "             Fire Alarm\n",
       "Raw Ethanol            \n",
       "19438               685\n",
       "19443               504\n",
       "19448               494\n",
       "19446               486\n",
       "19442               479\n",
       "19450               464\n",
       "19441               462\n",
       "19445               459\n",
       "19447               458\n",
       "19439               458\n",
       "19456               457\n",
       "19449               457\n",
       "19440               448\n",
       "19451               422\n",
       "19444               415\n",
       "19437               408\n",
       "19386               395\n",
       "19436               394\n",
       "19433               383\n",
       "19454               382"
      ]
     },
     "execution_count": 19,
     "metadata": {},
     "output_type": "execute_result"
    }
   ],
   "source": [
    "ethanol_fire = df.groupby('Raw Ethanol')[['Fire Alarm']].count().sort_values(by='Fire Alarm',ascending = False).head(20)\n",
    "ethanol_fire"
   ]
  },
  {
   "cell_type": "code",
   "execution_count": 20,
   "metadata": {},
   "outputs": [
    {
     "name": "stderr",
     "output_type": "stream",
     "text": [
      "c:\\Users\\hmagdy.ITECHS-EG\\AppData\\Local\\Programs\\Python\\Python310\\lib\\site-packages\\seaborn\\_decorators.py:36: FutureWarning: Pass the following variables as keyword args: x, y. From version 0.12, the only valid positional argument will be `data`, and passing other arguments without an explicit keyword will result in an error or misinterpretation.\n",
      "  warnings.warn(\n"
     ]
    },
    {
     "data": {
      "text/plain": [
       "Text(0.5, 1.0, 'Raw Ethanol affect on Fire')"
      ]
     },
     "execution_count": 20,
     "metadata": {},
     "output_type": "execute_result"
    },
    {
     "data": {
      "image/png": "[encoded data removed]",
      "text/plain": [
       "<Figure size 1800x576 with 1 Axes>"
      ]
     },
     "metadata": {
      "needs_background": "light"
     },
     "output_type": "display_data"
    }
   ],
   "source": [
    "plt.figure(figsize=[25,8])\n",
    "sns.barplot(ethanol_fire.index,ethanol_fire['Fire Alarm'])\n",
    "plt.title('Raw Ethanol affect on Fire')"
   ]
  },
  {
   "cell_type": "markdown",
   "metadata": {},
   "source": [
    "### It seems that fires are higher when the Raw Ethanol value is 19438"
   ]
  },
  {
   "cell_type": "markdown",
   "metadata": {},
   "source": [
    "## Correlation between the Parameters"
   ]
  },
  {
   "cell_type": "code",
   "execution_count": 21,
   "metadata": {},
   "outputs": [
    {
     "data": {
      "text/plain": [
       "<AxesSubplot:>"
      ]
     },
     "execution_count": 21,
     "metadata": {},
     "output_type": "execute_result"
    },
    {
     "data": {
      "image/png": "[encoded data removed]",
      "text/plain": [
       "<Figure size 1080x576 with 2 Axes>"
      ]
     },
     "metadata": {
      "needs_background": "light"
     },
     "output_type": "display_data"
    }
   ],
   "source": [
    "plt.figure(figsize=[15,8])\n",
    "sns.heatmap(df.corr(),annot = True)"
   ]
  },
  {
   "cell_type": "markdown",
   "metadata": {},
   "source": [
    "## Detect Outliers"
   ]
  },
  {
   "cell_type": "code",
   "execution_count": null,
   "metadata": {},
   "outputs": [
    {
     "data": {
      "text/plain": [
       "<AxesSubplot:>"
      ]
     },
     "execution_count": 33,
     "metadata": {},
     "output_type": "execute_result"
    },
    {
     "data": {
      "image/png": "[encoded data removed]",
      "text/plain": [
       "<Figure size 1080x576 with 1 Axes>"
      ]
     },
     "metadata": {
      "needs_background": "light"
     },
     "output_type": "display_data"
    }
   ],
   "source": [
    "plt.figure(figsize=[15,8])\n",
    "sns.boxplot(data=df)"
   ]
  },
  {
   "cell_type": "markdown",
   "metadata": {},
   "source": [
    "## Handle Outliers"
   ]
  },
  {
   "cell_type": "code",
   "execution_count": null,
   "metadata": {},
   "outputs": [
    {
     "data": {
      "text/plain": [
       "17492"
      ]
     },
     "execution_count": 34,
     "metadata": {},
     "output_type": "execute_result"
    }
   ],
   "source": [
    "from datasist.structdata import detect_outliers\n",
    "index = detect_outliers(df,0,['Humidity[%]','TVOC[ppb]','eCO2[ppm]', 'Raw H2', 'Raw Ethanol', 'PM1.0', 'PM2.5', 'NC0.5', 'NC1.0', 'NC2.5'])\n",
    "len(index)"
   ]
  },
  {
   "cell_type": "code",
   "execution_count": null,
   "metadata": {},
   "outputs": [
    {
     "name": "stderr",
     "output_type": "stream",
     "text": [
      "C:\\Users\\hmagdy.ITECHS-EG\\AppData\\Local\\Temp\\ipykernel_2840\\2729013575.py:4: SettingWithCopyWarning: \n",
      "A value is trying to be set on a copy of a slice from a DataFrame\n",
      "\n",
      "See the caveats in the documentation: https://pandas.pydata.org/pandas-docs/stable/user_guide/indexing.html#returning-a-view-versus-a-copy\n",
      "  df[col].iloc[outliers_indices] = col_median\n",
      "C:\\Users\\hmagdy.ITECHS-EG\\AppData\\Local\\Temp\\ipykernel_2840\\2729013575.py:4: SettingWithCopyWarning: \n",
      "A value is trying to be set on a copy of a slice from a DataFrame\n",
      "\n",
      "See the caveats in the documentation: https://pandas.pydata.org/pandas-docs/stable/user_guide/indexing.html#returning-a-view-versus-a-copy\n",
      "  df[col].iloc[outliers_indices] = col_median\n",
      "C:\\Users\\hmagdy.ITECHS-EG\\AppData\\Local\\Temp\\ipykernel_2840\\2729013575.py:4: SettingWithCopyWarning: \n",
      "A value is trying to be set on a copy of a slice from a DataFrame\n",
      "\n",
      "See the caveats in the documentation: https://pandas.pydata.org/pandas-docs/stable/user_guide/indexing.html#returning-a-view-versus-a-copy\n",
      "  df[col].iloc[outliers_indices] = col_median\n",
      "C:\\Users\\hmagdy.ITECHS-EG\\AppData\\Local\\Temp\\ipykernel_2840\\2729013575.py:4: SettingWithCopyWarning: \n",
      "A value is trying to be set on a copy of a slice from a DataFrame\n",
      "\n",
      "See the caveats in the documentation: https://pandas.pydata.org/pandas-docs/stable/user_guide/indexing.html#returning-a-view-versus-a-copy\n",
      "  df[col].iloc[outliers_indices] = col_median\n",
      "C:\\Users\\hmagdy.ITECHS-EG\\AppData\\Local\\Temp\\ipykernel_2840\\2729013575.py:4: SettingWithCopyWarning: \n",
      "A value is trying to be set on a copy of a slice from a DataFrame\n",
      "\n",
      "See the caveats in the documentation: https://pandas.pydata.org/pandas-docs/stable/user_guide/indexing.html#returning-a-view-versus-a-copy\n",
      "  df[col].iloc[outliers_indices] = col_median\n",
      "C:\\Users\\hmagdy.ITECHS-EG\\AppData\\Local\\Temp\\ipykernel_2840\\2729013575.py:4: SettingWithCopyWarning: \n",
      "A value is trying to be set on a copy of a slice from a DataFrame\n",
      "\n",
      "See the caveats in the documentation: https://pandas.pydata.org/pandas-docs/stable/user_guide/indexing.html#returning-a-view-versus-a-copy\n",
      "  df[col].iloc[outliers_indices] = col_median\n",
      "C:\\Users\\hmagdy.ITECHS-EG\\AppData\\Local\\Temp\\ipykernel_2840\\2729013575.py:4: SettingWithCopyWarning: \n",
      "A value is trying to be set on a copy of a slice from a DataFrame\n",
      "\n",
      "See the caveats in the documentation: https://pandas.pydata.org/pandas-docs/stable/user_guide/indexing.html#returning-a-view-versus-a-copy\n",
      "  df[col].iloc[outliers_indices] = col_median\n",
      "C:\\Users\\hmagdy.ITECHS-EG\\AppData\\Local\\Temp\\ipykernel_2840\\2729013575.py:4: SettingWithCopyWarning: \n",
      "A value is trying to be set on a copy of a slice from a DataFrame\n",
      "\n",
      "See the caveats in the documentation: https://pandas.pydata.org/pandas-docs/stable/user_guide/indexing.html#returning-a-view-versus-a-copy\n",
      "  df[col].iloc[outliers_indices] = col_median\n",
      "C:\\Users\\hmagdy.ITECHS-EG\\AppData\\Local\\Temp\\ipykernel_2840\\2729013575.py:4: SettingWithCopyWarning: \n",
      "A value is trying to be set on a copy of a slice from a DataFrame\n",
      "\n",
      "See the caveats in the documentation: https://pandas.pydata.org/pandas-docs/stable/user_guide/indexing.html#returning-a-view-versus-a-copy\n",
      "  df[col].iloc[outliers_indices] = col_median\n",
      "C:\\Users\\hmagdy.ITECHS-EG\\AppData\\Local\\Temp\\ipykernel_2840\\2729013575.py:4: SettingWithCopyWarning: \n",
      "A value is trying to be set on a copy of a slice from a DataFrame\n",
      "\n",
      "See the caveats in the documentation: https://pandas.pydata.org/pandas-docs/stable/user_guide/indexing.html#returning-a-view-versus-a-copy\n",
      "  df[col].iloc[outliers_indices] = col_median\n"
     ]
    }
   ],
   "source": [
    "for col in df[['Humidity[%]','TVOC[ppb]','eCO2[ppm]', 'Raw H2', 'Raw Ethanol', 'PM1.0', 'PM2.5', 'NC0.5', 'NC1.0', 'NC2.5']]:\n",
    "    outliers_indices = detect_outliers(df, 0, [col])\n",
    "    col_median = df[col].median()\n",
    "    df[col].iloc[outliers_indices] = col_median"
   ]
  },
  {
   "cell_type": "code",
   "execution_count": null,
   "metadata": {},
   "outputs": [
    {
     "data": {
      "text/plain": [
       "<AxesSubplot:>"
      ]
     },
     "execution_count": 36,
     "metadata": {},
     "output_type": "execute_result"
    },
    {
     "data": {
      "image/png": "[encoded data removed]",
      "text/plain": [
       "<Figure size 1080x576 with 1 Axes>"
      ]
     },
     "metadata": {
      "needs_background": "light"
     },
     "output_type": "display_data"
    }
   ],
   "source": [
    "plt.figure(figsize=[15,8])\n",
    "sns.boxplot(data=df)"
   ]
  },
  {
   "cell_type": "markdown",
   "metadata": {},
   "source": [
    "## Split input data and output data"
   ]
  },
  {
   "cell_type": "code",
   "execution_count": null,
   "metadata": {},
   "outputs": [],
   "source": [
    "X = df.drop(columns='Fire Alarm')\n",
    "y = df['Fire Alarm']"
   ]
  },
  {
   "cell_type": "markdown",
   "metadata": {},
   "source": [
    "## Split data into Train and Test"
   ]
  },
  {
   "cell_type": "code",
   "execution_count": null,
   "metadata": {},
   "outputs": [],
   "source": [
    "from sklearn.model_selection import train_test_split\n",
    "x_train, x_test, y_train, y_test = train_test_split(X,y, test_size= 0.2, random_state= 18, stratify= y)"
   ]
  },
  {
   "cell_type": "code",
   "execution_count": null,
   "metadata": {},
   "outputs": [
    {
     "data": {
      "text/plain": [
       "1    35806\n",
       "0    14298\n",
       "Name: Fire Alarm, dtype: int64"
      ]
     },
     "execution_count": 39,
     "metadata": {},
     "output_type": "execute_result"
    }
   ],
   "source": [
    "y_train.value_counts()"
   ]
  },
  {
   "cell_type": "code",
   "execution_count": null,
   "metadata": {},
   "outputs": [
    {
     "data": {
      "text/plain": [
       "1    8951\n",
       "0    3575\n",
       "Name: Fire Alarm, dtype: int64"
      ]
     },
     "execution_count": 40,
     "metadata": {},
     "output_type": "execute_result"
    }
   ],
   "source": [
    "y_test.value_counts()"
   ]
  },
  {
   "cell_type": "code",
   "execution_count": null,
   "metadata": {},
   "outputs": [
    {
     "data": {
      "text/plain": [
       "7"
      ]
     },
     "execution_count": 41,
     "metadata": {},
     "output_type": "execute_result"
    }
   ],
   "source": [
    "x_train.duplicated().sum()"
   ]
  },
  {
   "cell_type": "markdown",
   "metadata": {},
   "source": [
    "## Handle Imbalance using SMOTE Over Sampling"
   ]
  },
  {
   "cell_type": "code",
   "execution_count": null,
   "metadata": {},
   "outputs": [],
   "source": [
    "from imblearn.over_sampling import SMOTE\n",
    "smote = SMOTE()\n",
    "x_train_smote, y_train_smote = smote.fit_resample(x_train, y_train)"
   ]
  },
  {
   "cell_type": "code",
   "execution_count": null,
   "metadata": {},
   "outputs": [
    {
     "data": {
      "text/plain": [
       "0    35806\n",
       "1    35806\n",
       "Name: Fire Alarm, dtype: int64"
      ]
     },
     "execution_count": 43,
     "metadata": {},
     "output_type": "execute_result"
    }
   ],
   "source": [
    "y_train_smote.value_counts()"
   ]
  },
  {
   "cell_type": "code",
   "execution_count": null,
   "metadata": {},
   "outputs": [
    {
     "data": {
      "text/plain": [
       "11"
      ]
     },
     "execution_count": 44,
     "metadata": {},
     "output_type": "execute_result"
    }
   ],
   "source": [
    "x_train_smote.duplicated().sum()"
   ]
  },
  {
   "cell_type": "code",
   "execution_count": null,
   "metadata": {},
   "outputs": [
    {
     "data": {
      "text/plain": [
       "(array([    0.,  5000., 10000., 15000., 20000., 25000., 30000., 35000.,\n",
       "        40000.]),\n",
       " [Text(0, 0, ''),\n",
       "  Text(0, 0, ''),\n",
       "  Text(0, 0, ''),\n",
       "  Text(0, 0, ''),\n",
       "  Text(0, 0, ''),\n",
       "  Text(0, 0, ''),\n",
       "  Text(0, 0, ''),\n",
       "  Text(0, 0, ''),\n",
       "  Text(0, 0, '')])"
      ]
     },
     "execution_count": 54,
     "metadata": {},
     "output_type": "execute_result"
    },
    {
     "data": {
      "image/png": "[encoded data removed]",
      "text/plain": [
       "<Figure size 432x288 with 1 Axes>"
      ]
     },
     "metadata": {
      "needs_background": "dark"
     },
     "output_type": "display_data"
    }
   ],
   "source": [
    "sns.histplot(y_train_smote)\n",
    "plt.xlabel('Fire Alarm', color= 'white', fontsize = 18, weight = 'bold')\n",
    "plt.ylabel('Count', color= 'white', fontsize = 18, weight = 'bold')\n",
    "plt.xticks(color = 'white', fontsize = 14)\n",
    "plt.yticks(color = 'white', fontsize = 14)"
   ]
  },
  {
   "cell_type": "markdown",
   "metadata": {},
   "source": [
    "## Feature Scaling"
   ]
  },
  {
   "cell_type": "code",
   "execution_count": null,
   "metadata": {},
   "outputs": [],
   "source": [
    "from sklearn.preprocessing import StandardScaler\n",
    "scaler = StandardScaler()\n",
    "x_train_scaled = scaler.fit_transform(x_train)\n",
    "x_test_scaled = scaler.transform(x_test)"
   ]
  },
  {
   "cell_type": "code",
   "execution_count": null,
   "metadata": {},
   "outputs": [
    {
     "data": {
      "text/html": [
       "<div>\n",
       "<style scoped>\n",
       "    .dataframe tbody tr th:only-of-type {\n",
       "        vertical-align: middle;\n",
       "    }\n",
       "\n",
       "    .dataframe tbody tr th {\n",
       "        vertical-align: top;\n",
       "    }\n",
       "\n",
       "    .dataframe thead th {\n",
       "        text-align: right;\n",
       "    }\n",
       "</style>\n",
       "<table border=\"1\" class=\"dataframe\">\n",
       "  <thead>\n",
       "    <tr style=\"text-align: right;\">\n",
       "      <th></th>\n",
       "      <th>Temperature[C]</th>\n",
       "      <th>Humidity[%]</th>\n",
       "      <th>TVOC[ppb]</th>\n",
       "      <th>eCO2[ppm]</th>\n",
       "      <th>Raw H2</th>\n",
       "      <th>Raw Ethanol</th>\n",
       "      <th>Pressure[hPa]</th>\n",
       "      <th>PM1.0</th>\n",
       "      <th>PM2.5</th>\n",
       "      <th>NC0.5</th>\n",
       "      <th>NC1.0</th>\n",
       "      <th>NC2.5</th>\n",
       "    </tr>\n",
       "  </thead>\n",
       "  <tbody>\n",
       "    <tr>\n",
       "      <th>0</th>\n",
       "      <td>-0.169593</td>\n",
       "      <td>0.924613</td>\n",
       "      <td>-1.313453</td>\n",
       "      <td>-0.433703</td>\n",
       "      <td>-1.339233</td>\n",
       "      <td>-0.007796</td>\n",
       "      <td>0.918066</td>\n",
       "      <td>-2.164899</td>\n",
       "      <td>-2.080947</td>\n",
       "      <td>-2.205206</td>\n",
       "      <td>-2.072495</td>\n",
       "      <td>0.923316</td>\n",
       "    </tr>\n",
       "    <tr>\n",
       "      <th>1</th>\n",
       "      <td>0.288894</td>\n",
       "      <td>0.632436</td>\n",
       "      <td>-1.246229</td>\n",
       "      <td>-0.433703</td>\n",
       "      <td>1.792994</td>\n",
       "      <td>0.933854</td>\n",
       "      <td>0.781683</td>\n",
       "      <td>1.357997</td>\n",
       "      <td>1.360786</td>\n",
       "      <td>1.364582</td>\n",
       "      <td>1.363897</td>\n",
       "      <td>1.408004</td>\n",
       "    </tr>\n",
       "    <tr>\n",
       "      <th>2</th>\n",
       "      <td>0.593857</td>\n",
       "      <td>0.313454</td>\n",
       "      <td>0.714476</td>\n",
       "      <td>-0.433703</td>\n",
       "      <td>-0.995892</td>\n",
       "      <td>-0.724916</td>\n",
       "      <td>0.343311</td>\n",
       "      <td>0.975074</td>\n",
       "      <td>0.978371</td>\n",
       "      <td>0.977874</td>\n",
       "      <td>0.977641</td>\n",
       "      <td>0.992557</td>\n",
       "    </tr>\n",
       "    <tr>\n",
       "      <th>3</th>\n",
       "      <td>0.423662</td>\n",
       "      <td>1.270400</td>\n",
       "      <td>-0.775660</td>\n",
       "      <td>-0.433703</td>\n",
       "      <td>1.034031</td>\n",
       "      <td>0.340454</td>\n",
       "      <td>0.793673</td>\n",
       "      <td>-0.571938</td>\n",
       "      <td>-0.580704</td>\n",
       "      <td>-0.586843</td>\n",
       "      <td>-0.577358</td>\n",
       "      <td>-0.738470</td>\n",
       "    </tr>\n",
       "    <tr>\n",
       "      <th>4</th>\n",
       "      <td>0.161977</td>\n",
       "      <td>-0.892782</td>\n",
       "      <td>0.828383</td>\n",
       "      <td>-0.433703</td>\n",
       "      <td>-0.658576</td>\n",
       "      <td>-0.734080</td>\n",
       "      <td>0.212923</td>\n",
       "      <td>0.653418</td>\n",
       "      <td>0.640081</td>\n",
       "      <td>0.644813</td>\n",
       "      <td>0.646972</td>\n",
       "      <td>0.646352</td>\n",
       "    </tr>\n",
       "    <tr>\n",
       "      <th>...</th>\n",
       "      <td>...</td>\n",
       "      <td>...</td>\n",
       "      <td>...</td>\n",
       "      <td>...</td>\n",
       "      <td>...</td>\n",
       "      <td>...</td>\n",
       "      <td>...</td>\n",
       "      <td>...</td>\n",
       "      <td>...</td>\n",
       "      <td>...</td>\n",
       "      <td>...</td>\n",
       "      <td>...</td>\n",
       "    </tr>\n",
       "    <tr>\n",
       "      <th>50099</th>\n",
       "      <td>0.583437</td>\n",
       "      <td>0.978223</td>\n",
       "      <td>1.282147</td>\n",
       "      <td>0.831269</td>\n",
       "      <td>0.004011</td>\n",
       "      <td>-0.894459</td>\n",
       "      <td>0.079538</td>\n",
       "      <td>0.622784</td>\n",
       "      <td>0.625373</td>\n",
       "      <td>0.615753</td>\n",
       "      <td>0.618466</td>\n",
       "      <td>0.577111</td>\n",
       "    </tr>\n",
       "    <tr>\n",
       "      <th>50100</th>\n",
       "      <td>0.310290</td>\n",
       "      <td>-0.555036</td>\n",
       "      <td>0.897475</td>\n",
       "      <td>0.072286</td>\n",
       "      <td>-0.248977</td>\n",
       "      <td>-0.773029</td>\n",
       "      <td>0.051811</td>\n",
       "      <td>-0.143063</td>\n",
       "      <td>-0.139456</td>\n",
       "      <td>-0.142016</td>\n",
       "      <td>-0.134091</td>\n",
       "      <td>-0.253782</td>\n",
       "    </tr>\n",
       "    <tr>\n",
       "      <th>50101</th>\n",
       "      <td>-0.029268</td>\n",
       "      <td>0.844197</td>\n",
       "      <td>-1.251831</td>\n",
       "      <td>-0.433703</td>\n",
       "      <td>0.744903</td>\n",
       "      <td>0.461883</td>\n",
       "      <td>0.805663</td>\n",
       "      <td>-1.582856</td>\n",
       "      <td>-1.580866</td>\n",
       "      <td>-1.597202</td>\n",
       "      <td>-1.582192</td>\n",
       "      <td>-1.846327</td>\n",
       "    </tr>\n",
       "    <tr>\n",
       "      <th>50102</th>\n",
       "      <td>0.277918</td>\n",
       "      <td>-0.069861</td>\n",
       "      <td>0.518405</td>\n",
       "      <td>-0.433703</td>\n",
       "      <td>-1.622338</td>\n",
       "      <td>-2.021689</td>\n",
       "      <td>-1.303772</td>\n",
       "      <td>-1.613489</td>\n",
       "      <td>-1.595574</td>\n",
       "      <td>-1.619556</td>\n",
       "      <td>-1.602147</td>\n",
       "      <td>-1.846327</td>\n",
       "    </tr>\n",
       "    <tr>\n",
       "      <th>50103</th>\n",
       "      <td>-0.186126</td>\n",
       "      <td>-0.632771</td>\n",
       "      <td>1.183178</td>\n",
       "      <td>0.325280</td>\n",
       "      <td>0.154598</td>\n",
       "      <td>-0.880712</td>\n",
       "      <td>0.152225</td>\n",
       "      <td>0.913806</td>\n",
       "      <td>0.919538</td>\n",
       "      <td>0.915285</td>\n",
       "      <td>0.917779</td>\n",
       "      <td>0.923316</td>\n",
       "    </tr>\n",
       "  </tbody>\n",
       "</table>\n",
       "<p>50104 rows × 12 columns</p>\n",
       "</div>"
      ],
      "text/plain": [
       "       Temperature[C]  Humidity[%]  TVOC[ppb]  eCO2[ppm]    Raw H2  \\\n",
       "0           -0.169593     0.924613  -1.313453  -0.433703 -1.339233   \n",
       "1            0.288894     0.632436  -1.246229  -0.433703  1.792994   \n",
       "2            0.593857     0.313454   0.714476  -0.433703 -0.995892   \n",
       "3            0.423662     1.270400  -0.775660  -0.433703  1.034031   \n",
       "4            0.161977    -0.892782   0.828383  -0.433703 -0.658576   \n",
       "...               ...          ...        ...        ...       ...   \n",
       "50099        0.583437     0.978223   1.282147   0.831269  0.004011   \n",
       "50100        0.310290    -0.555036   0.897475   0.072286 -0.248977   \n",
       "50101       -0.029268     0.844197  -1.251831  -0.433703  0.744903   \n",
       "50102        0.277918    -0.069861   0.518405  -0.433703 -1.622338   \n",
       "50103       -0.186126    -0.632771   1.183178   0.325280  0.154598   \n",
       "\n",
       "       Raw Ethanol  Pressure[hPa]     PM1.0     PM2.5     NC0.5     NC1.0  \\\n",
       "0        -0.007796       0.918066 -2.164899 -2.080947 -2.205206 -2.072495   \n",
       "1         0.933854       0.781683  1.357997  1.360786  1.364582  1.363897   \n",
       "2        -0.724916       0.343311  0.975074  0.978371  0.977874  0.977641   \n",
       "3         0.340454       0.793673 -0.571938 -0.580704 -0.586843 -0.577358   \n",
       "4        -0.734080       0.212923  0.653418  0.640081  0.644813  0.646972   \n",
       "...            ...            ...       ...       ...       ...       ...   \n",
       "50099    -0.894459       0.079538  0.622784  0.625373  0.615753  0.618466   \n",
       "50100    -0.773029       0.051811 -0.143063 -0.139456 -0.142016 -0.134091   \n",
       "50101     0.461883       0.805663 -1.582856 -1.580866 -1.597202 -1.582192   \n",
       "50102    -2.021689      -1.303772 -1.613489 -1.595574 -1.619556 -1.602147   \n",
       "50103    -0.880712       0.152225  0.913806  0.919538  0.915285  0.917779   \n",
       "\n",
       "          NC2.5  \n",
       "0      0.923316  \n",
       "1      1.408004  \n",
       "2      0.992557  \n",
       "3     -0.738470  \n",
       "4      0.646352  \n",
       "...         ...  \n",
       "50099  0.577111  \n",
       "50100 -0.253782  \n",
       "50101 -1.846327  \n",
       "50102 -1.846327  \n",
       "50103  0.923316  \n",
       "\n",
       "[50104 rows x 12 columns]"
      ]
     },
     "execution_count": 46,
     "metadata": {},
     "output_type": "execute_result"
    }
   ],
   "source": [
    "x_train_scaled = pd.DataFrame(x_train_scaled,columns = scaler.get_feature_names_out())\n",
    "x_train_scaled"
   ]
  },
  {
   "cell_type": "code",
   "execution_count": null,
   "metadata": {},
   "outputs": [
    {
     "data": {
      "text/html": [
       "<div>\n",
       "<style scoped>\n",
       "    .dataframe tbody tr th:only-of-type {\n",
       "        vertical-align: middle;\n",
       "    }\n",
       "\n",
       "    .dataframe tbody tr th {\n",
       "        vertical-align: top;\n",
       "    }\n",
       "\n",
       "    .dataframe thead th {\n",
       "        text-align: right;\n",
       "    }\n",
       "</style>\n",
       "<table border=\"1\" class=\"dataframe\">\n",
       "  <thead>\n",
       "    <tr style=\"text-align: right;\">\n",
       "      <th></th>\n",
       "      <th>Temperature[C]</th>\n",
       "      <th>Humidity[%]</th>\n",
       "      <th>TVOC[ppb]</th>\n",
       "      <th>eCO2[ppm]</th>\n",
       "      <th>Raw H2</th>\n",
       "      <th>Raw Ethanol</th>\n",
       "      <th>Pressure[hPa]</th>\n",
       "      <th>PM1.0</th>\n",
       "      <th>PM2.5</th>\n",
       "      <th>NC0.5</th>\n",
       "      <th>NC1.0</th>\n",
       "      <th>NC2.5</th>\n",
       "    </tr>\n",
       "  </thead>\n",
       "  <tbody>\n",
       "    <tr>\n",
       "      <th>0</th>\n",
       "      <td>-0.069212</td>\n",
       "      <td>-0.874018</td>\n",
       "      <td>-1.147260</td>\n",
       "      <td>-0.433703</td>\n",
       "      <td>1.383395</td>\n",
       "      <td>0.713906</td>\n",
       "      <td>0.752459</td>\n",
       "      <td>-0.740424</td>\n",
       "      <td>-0.742495</td>\n",
       "      <td>-0.754491</td>\n",
       "      <td>-0.742692</td>\n",
       "      <td>-0.876952</td>\n",
       "    </tr>\n",
       "    <tr>\n",
       "      <th>1</th>\n",
       "      <td>0.748770</td>\n",
       "      <td>-0.496064</td>\n",
       "      <td>0.729415</td>\n",
       "      <td>1.527004</td>\n",
       "      <td>-0.526058</td>\n",
       "      <td>-0.718043</td>\n",
       "      <td>0.144731</td>\n",
       "      <td>0.193910</td>\n",
       "      <td>0.198834</td>\n",
       "      <td>0.197751</td>\n",
       "      <td>0.203705</td>\n",
       "      <td>0.161664</td>\n",
       "    </tr>\n",
       "    <tr>\n",
       "      <th>2</th>\n",
       "      <td>0.765443</td>\n",
       "      <td>-0.662257</td>\n",
       "      <td>0.886271</td>\n",
       "      <td>0.072286</td>\n",
       "      <td>-0.176695</td>\n",
       "      <td>-0.770738</td>\n",
       "      <td>0.091527</td>\n",
       "      <td>-0.005211</td>\n",
       "      <td>-0.007082</td>\n",
       "      <td>-0.016839</td>\n",
       "      <td>-0.010090</td>\n",
       "      <td>-0.115300</td>\n",
       "    </tr>\n",
       "    <tr>\n",
       "      <th>3</th>\n",
       "      <td>0.258745</td>\n",
       "      <td>0.509132</td>\n",
       "      <td>-1.296647</td>\n",
       "      <td>-0.433703</td>\n",
       "      <td>1.546030</td>\n",
       "      <td>0.892613</td>\n",
       "      <td>0.737471</td>\n",
       "      <td>-0.694473</td>\n",
       "      <td>-0.683662</td>\n",
       "      <td>-0.694138</td>\n",
       "      <td>-0.684255</td>\n",
       "      <td>-0.876952</td>\n",
       "    </tr>\n",
       "    <tr>\n",
       "      <th>4</th>\n",
       "      <td>2.463928</td>\n",
       "      <td>-0.069861</td>\n",
       "      <td>2.083234</td>\n",
       "      <td>-0.433703</td>\n",
       "      <td>-0.212836</td>\n",
       "      <td>0.998005</td>\n",
       "      <td>-1.455891</td>\n",
       "      <td>-0.939544</td>\n",
       "      <td>-0.933702</td>\n",
       "      <td>-0.953433</td>\n",
       "      <td>-0.942234</td>\n",
       "      <td>-1.153916</td>\n",
       "    </tr>\n",
       "    <tr>\n",
       "      <th>...</th>\n",
       "      <td>...</td>\n",
       "      <td>...</td>\n",
       "      <td>...</td>\n",
       "      <td>...</td>\n",
       "      <td>...</td>\n",
       "      <td>...</td>\n",
       "      <td>...</td>\n",
       "      <td>...</td>\n",
       "      <td>...</td>\n",
       "      <td>...</td>\n",
       "      <td>...</td>\n",
       "      <td>...</td>\n",
       "    </tr>\n",
       "    <tr>\n",
       "      <th>12521</th>\n",
       "      <td>0.138149</td>\n",
       "      <td>-0.592563</td>\n",
       "      <td>-1.266770</td>\n",
       "      <td>-0.433703</td>\n",
       "      <td>1.034031</td>\n",
       "      <td>0.601641</td>\n",
       "      <td>0.740469</td>\n",
       "      <td>-1.169298</td>\n",
       "      <td>-1.169035</td>\n",
       "      <td>-1.183670</td>\n",
       "      <td>-1.170282</td>\n",
       "      <td>-1.361640</td>\n",
       "    </tr>\n",
       "    <tr>\n",
       "      <th>12522</th>\n",
       "      <td>0.197405</td>\n",
       "      <td>-0.316469</td>\n",
       "      <td>0.660323</td>\n",
       "      <td>-0.433703</td>\n",
       "      <td>-0.857352</td>\n",
       "      <td>-0.702005</td>\n",
       "      <td>0.310339</td>\n",
       "      <td>0.530882</td>\n",
       "      <td>0.537124</td>\n",
       "      <td>0.530812</td>\n",
       "      <td>0.535799</td>\n",
       "      <td>0.507870</td>\n",
       "    </tr>\n",
       "    <tr>\n",
       "      <th>12523</th>\n",
       "      <td>-1.436614</td>\n",
       "      <td>-0.069861</td>\n",
       "      <td>0.027296</td>\n",
       "      <td>-0.433703</td>\n",
       "      <td>-1.411515</td>\n",
       "      <td>-0.516424</td>\n",
       "      <td>0.389771</td>\n",
       "      <td>1.235462</td>\n",
       "      <td>1.228412</td>\n",
       "      <td>1.228228</td>\n",
       "      <td>1.228493</td>\n",
       "      <td>1.269522</td>\n",
       "    </tr>\n",
       "    <tr>\n",
       "      <th>12524</th>\n",
       "      <td>0.229777</td>\n",
       "      <td>-0.555036</td>\n",
       "      <td>0.890006</td>\n",
       "      <td>-0.117460</td>\n",
       "      <td>-0.303188</td>\n",
       "      <td>-0.770738</td>\n",
       "      <td>0.051811</td>\n",
       "      <td>0.301128</td>\n",
       "      <td>0.301791</td>\n",
       "      <td>0.293869</td>\n",
       "      <td>0.299200</td>\n",
       "      <td>0.230905</td>\n",
       "    </tr>\n",
       "    <tr>\n",
       "      <th>12525</th>\n",
       "      <td>0.745297</td>\n",
       "      <td>-0.423690</td>\n",
       "      <td>0.772363</td>\n",
       "      <td>-0.370455</td>\n",
       "      <td>-0.465823</td>\n",
       "      <td>-0.729498</td>\n",
       "      <td>0.134990</td>\n",
       "      <td>0.454298</td>\n",
       "      <td>0.463582</td>\n",
       "      <td>0.457047</td>\n",
       "      <td>0.461684</td>\n",
       "      <td>0.438629</td>\n",
       "    </tr>\n",
       "  </tbody>\n",
       "</table>\n",
       "<p>12526 rows × 12 columns</p>\n",
       "</div>"
      ],
      "text/plain": [
       "       Temperature[C]  Humidity[%]  TVOC[ppb]  eCO2[ppm]    Raw H2  \\\n",
       "0           -0.069212    -0.874018  -1.147260  -0.433703  1.383395   \n",
       "1            0.748770    -0.496064   0.729415   1.527004 -0.526058   \n",
       "2            0.765443    -0.662257   0.886271   0.072286 -0.176695   \n",
       "3            0.258745     0.509132  -1.296647  -0.433703  1.546030   \n",
       "4            2.463928    -0.069861   2.083234  -0.433703 -0.212836   \n",
       "...               ...          ...        ...        ...       ...   \n",
       "12521        0.138149    -0.592563  -1.266770  -0.433703  1.034031   \n",
       "12522        0.197405    -0.316469   0.660323  -0.433703 -0.857352   \n",
       "12523       -1.436614    -0.069861   0.027296  -0.433703 -1.411515   \n",
       "12524        0.229777    -0.555036   0.890006  -0.117460 -0.303188   \n",
       "12525        0.745297    -0.423690   0.772363  -0.370455 -0.465823   \n",
       "\n",
       "       Raw Ethanol  Pressure[hPa]     PM1.0     PM2.5     NC0.5     NC1.0  \\\n",
       "0         0.713906       0.752459 -0.740424 -0.742495 -0.754491 -0.742692   \n",
       "1        -0.718043       0.144731  0.193910  0.198834  0.197751  0.203705   \n",
       "2        -0.770738       0.091527 -0.005211 -0.007082 -0.016839 -0.010090   \n",
       "3         0.892613       0.737471 -0.694473 -0.683662 -0.694138 -0.684255   \n",
       "4         0.998005      -1.455891 -0.939544 -0.933702 -0.953433 -0.942234   \n",
       "...            ...            ...       ...       ...       ...       ...   \n",
       "12521     0.601641       0.740469 -1.169298 -1.169035 -1.183670 -1.170282   \n",
       "12522    -0.702005       0.310339  0.530882  0.537124  0.530812  0.535799   \n",
       "12523    -0.516424       0.389771  1.235462  1.228412  1.228228  1.228493   \n",
       "12524    -0.770738       0.051811  0.301128  0.301791  0.293869  0.299200   \n",
       "12525    -0.729498       0.134990  0.454298  0.463582  0.457047  0.461684   \n",
       "\n",
       "          NC2.5  \n",
       "0     -0.876952  \n",
       "1      0.161664  \n",
       "2     -0.115300  \n",
       "3     -0.876952  \n",
       "4     -1.153916  \n",
       "...         ...  \n",
       "12521 -1.361640  \n",
       "12522  0.507870  \n",
       "12523  1.269522  \n",
       "12524  0.230905  \n",
       "12525  0.438629  \n",
       "\n",
       "[12526 rows x 12 columns]"
      ]
     },
     "execution_count": 47,
     "metadata": {},
     "output_type": "execute_result"
    }
   ],
   "source": [
    "x_test_scaled = pd.DataFrame(x_test_scaled,columns = scaler.get_feature_names_out())\n",
    "x_test_scaled"
   ]
  }
 ],
 "metadata": {
  "kernelspec": {
   "display_name": "Python 3.10.6 64-bit",
   "language": "python",
   "name": "python3"
  },
  "language_info": {
   "codemirror_mode": {
    "name": "ipython",
    "version": 3
   },
   "file_extension": ".py",
   "mimetype": "text/x-python",
   "name": "python",
   "nbconvert_exporter": "python",
   "pygments_lexer": "ipython3",
   "version": "3.10.6"
  },
  "orig_nbformat": 4,
  "vscode": {
   "interpreter": {
    "hash": "60503e8dfe9fb2f0908aa83e7a2921db439795d6119ddad6247e8de6e8e1ed0e"
   }
  }
 },
 "nbformat": 4,
 "nbformat_minor": 2
}
